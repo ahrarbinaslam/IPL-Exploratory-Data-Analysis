{
  "nbformat": 4,
  "nbformat_minor": 0,
  "metadata": {
    "colab": {
      "provenance": []
    },
    "kernelspec": {
      "name": "python3",
      "display_name": "Python 3"
    },
    "language_info": {
      "name": "python"
    }
  },
  "cells": [
    {
      "cell_type": "code",
      "execution_count": null,
      "metadata": {
        "id": "68O387qZTqgW"
      },
      "outputs": [],
      "source": [
        "import pandas as pd\n",
        "import numpy as np\n",
        "import seaborn as sns\n",
        "from matplotlib import pyplot as plt"
      ]
    },
    {
      "cell_type": "code",
      "source": [
        "df=pd.read_csv(\"IPL 2022.csv\")"
      ],
      "metadata": {
        "id": "hI6ZS4q9WB4Q"
      },
      "execution_count": null,
      "outputs": []
    },
    {
      "cell_type": "code",
      "source": [
        "df.head()"
      ],
      "metadata": {
        "colab": {
          "base_uri": "https://localhost:8080/",
          "height": 478
        },
        "id": "vpJMmeAoWL9N",
        "outputId": "6aea4a27-1b1b-48b2-e710-1e9030046d9f"
      },
      "execution_count": null,
      "outputs": [
        {
          "output_type": "execute_result",
          "data": {
            "text/plain": [
              "   match_id           date                                         venue  \\\n",
              "0         1  March 26,2022                      Wankhede Stadium, Mumbai   \n",
              "1         2  March 27,2022                     Brabourne Stadium, Mumbai   \n",
              "2         3  March 27,2022            Dr DY Patil Sports Academy, Mumbai   \n",
              "3         4  March 28,2022                      Wankhede Stadium, Mumbai   \n",
              "4         5  March 29,2022  Maharashtra Cricket Association Stadium,Pune   \n",
              "\n",
              "       team1      team2  stage toss_winner toss_decision  first_ings_score  \\\n",
              "0    Chennai    Kolkata  Group     Kolkata         Field               131   \n",
              "1      Delhi     Mumbai  Group       Delhi         Field               177   \n",
              "2   Banglore     Punjab  Group      Punjab         Field               205   \n",
              "3    Gujarat    Lucknow  Group     Gujarat         Field               158   \n",
              "4  Hyderabad  Rajasthan  Group   Hyderabad         Field               210   \n",
              "\n",
              "   first_ings_wkts  second_ings_score  second_ings_wkts match_winner   won_by  \\\n",
              "0                5                133                 4      Kolkata  Wickets   \n",
              "1                5                179                 6        Delhi  Wickets   \n",
              "2                2                208                 5       Punjab  Wickets   \n",
              "3                6                161                 5      Gujarat  Wickets   \n",
              "4                6                149                 7    Rajasthan     Runs   \n",
              "\n",
              "   margin player_of_the_match      top_scorer  highscore      best_bowling  \\\n",
              "0       6         Umesh Yadav        MS Dhoni         50      Dwayne Bravo   \n",
              "1       4       Kuldeep Yadav    Ishan Kishan         81     Kuldeep Yadav   \n",
              "2       5         Odean Smith  Faf du Plessis         88    Mohammed Siraj   \n",
              "3       5      Mohammed Shami    Deepak Hooda         55    Mohammed Shami   \n",
              "4      61        Sanju Samson   Aiden Markram         57  Yuzvendra Chahal   \n",
              "\n",
              "  best_bowling_figure  \n",
              "0               3--20  \n",
              "1               3--18  \n",
              "2               2--59  \n",
              "3               3--25  \n",
              "4               3--22  "
            ],
            "text/html": [
              "\n",
              "\n",
              "  <div id=\"df-3ca2b727-02d0-479a-8b5b-c63869e86726\">\n",
              "    <div class=\"colab-df-container\">\n",
              "      <div>\n",
              "<style scoped>\n",
              "    .dataframe tbody tr th:only-of-type {\n",
              "        vertical-align: middle;\n",
              "    }\n",
              "\n",
              "    .dataframe tbody tr th {\n",
              "        vertical-align: top;\n",
              "    }\n",
              "\n",
              "    .dataframe thead th {\n",
              "        text-align: right;\n",
              "    }\n",
              "</style>\n",
              "<table border=\"1\" class=\"dataframe\">\n",
              "  <thead>\n",
              "    <tr style=\"text-align: right;\">\n",
              "      <th></th>\n",
              "      <th>match_id</th>\n",
              "      <th>date</th>\n",
              "      <th>venue</th>\n",
              "      <th>team1</th>\n",
              "      <th>team2</th>\n",
              "      <th>stage</th>\n",
              "      <th>toss_winner</th>\n",
              "      <th>toss_decision</th>\n",
              "      <th>first_ings_score</th>\n",
              "      <th>first_ings_wkts</th>\n",
              "      <th>second_ings_score</th>\n",
              "      <th>second_ings_wkts</th>\n",
              "      <th>match_winner</th>\n",
              "      <th>won_by</th>\n",
              "      <th>margin</th>\n",
              "      <th>player_of_the_match</th>\n",
              "      <th>top_scorer</th>\n",
              "      <th>highscore</th>\n",
              "      <th>best_bowling</th>\n",
              "      <th>best_bowling_figure</th>\n",
              "    </tr>\n",
              "  </thead>\n",
              "  <tbody>\n",
              "    <tr>\n",
              "      <th>0</th>\n",
              "      <td>1</td>\n",
              "      <td>March 26,2022</td>\n",
              "      <td>Wankhede Stadium, Mumbai</td>\n",
              "      <td>Chennai</td>\n",
              "      <td>Kolkata</td>\n",
              "      <td>Group</td>\n",
              "      <td>Kolkata</td>\n",
              "      <td>Field</td>\n",
              "      <td>131</td>\n",
              "      <td>5</td>\n",
              "      <td>133</td>\n",
              "      <td>4</td>\n",
              "      <td>Kolkata</td>\n",
              "      <td>Wickets</td>\n",
              "      <td>6</td>\n",
              "      <td>Umesh Yadav</td>\n",
              "      <td>MS Dhoni</td>\n",
              "      <td>50</td>\n",
              "      <td>Dwayne Bravo</td>\n",
              "      <td>3--20</td>\n",
              "    </tr>\n",
              "    <tr>\n",
              "      <th>1</th>\n",
              "      <td>2</td>\n",
              "      <td>March 27,2022</td>\n",
              "      <td>Brabourne Stadium, Mumbai</td>\n",
              "      <td>Delhi</td>\n",
              "      <td>Mumbai</td>\n",
              "      <td>Group</td>\n",
              "      <td>Delhi</td>\n",
              "      <td>Field</td>\n",
              "      <td>177</td>\n",
              "      <td>5</td>\n",
              "      <td>179</td>\n",
              "      <td>6</td>\n",
              "      <td>Delhi</td>\n",
              "      <td>Wickets</td>\n",
              "      <td>4</td>\n",
              "      <td>Kuldeep Yadav</td>\n",
              "      <td>Ishan Kishan</td>\n",
              "      <td>81</td>\n",
              "      <td>Kuldeep Yadav</td>\n",
              "      <td>3--18</td>\n",
              "    </tr>\n",
              "    <tr>\n",
              "      <th>2</th>\n",
              "      <td>3</td>\n",
              "      <td>March 27,2022</td>\n",
              "      <td>Dr DY Patil Sports Academy, Mumbai</td>\n",
              "      <td>Banglore</td>\n",
              "      <td>Punjab</td>\n",
              "      <td>Group</td>\n",
              "      <td>Punjab</td>\n",
              "      <td>Field</td>\n",
              "      <td>205</td>\n",
              "      <td>2</td>\n",
              "      <td>208</td>\n",
              "      <td>5</td>\n",
              "      <td>Punjab</td>\n",
              "      <td>Wickets</td>\n",
              "      <td>5</td>\n",
              "      <td>Odean Smith</td>\n",
              "      <td>Faf du Plessis</td>\n",
              "      <td>88</td>\n",
              "      <td>Mohammed Siraj</td>\n",
              "      <td>2--59</td>\n",
              "    </tr>\n",
              "    <tr>\n",
              "      <th>3</th>\n",
              "      <td>4</td>\n",
              "      <td>March 28,2022</td>\n",
              "      <td>Wankhede Stadium, Mumbai</td>\n",
              "      <td>Gujarat</td>\n",
              "      <td>Lucknow</td>\n",
              "      <td>Group</td>\n",
              "      <td>Gujarat</td>\n",
              "      <td>Field</td>\n",
              "      <td>158</td>\n",
              "      <td>6</td>\n",
              "      <td>161</td>\n",
              "      <td>5</td>\n",
              "      <td>Gujarat</td>\n",
              "      <td>Wickets</td>\n",
              "      <td>5</td>\n",
              "      <td>Mohammed Shami</td>\n",
              "      <td>Deepak Hooda</td>\n",
              "      <td>55</td>\n",
              "      <td>Mohammed Shami</td>\n",
              "      <td>3--25</td>\n",
              "    </tr>\n",
              "    <tr>\n",
              "      <th>4</th>\n",
              "      <td>5</td>\n",
              "      <td>March 29,2022</td>\n",
              "      <td>Maharashtra Cricket Association Stadium,Pune</td>\n",
              "      <td>Hyderabad</td>\n",
              "      <td>Rajasthan</td>\n",
              "      <td>Group</td>\n",
              "      <td>Hyderabad</td>\n",
              "      <td>Field</td>\n",
              "      <td>210</td>\n",
              "      <td>6</td>\n",
              "      <td>149</td>\n",
              "      <td>7</td>\n",
              "      <td>Rajasthan</td>\n",
              "      <td>Runs</td>\n",
              "      <td>61</td>\n",
              "      <td>Sanju Samson</td>\n",
              "      <td>Aiden Markram</td>\n",
              "      <td>57</td>\n",
              "      <td>Yuzvendra Chahal</td>\n",
              "      <td>3--22</td>\n",
              "    </tr>\n",
              "  </tbody>\n",
              "</table>\n",
              "</div>\n",
              "      <button class=\"colab-df-convert\" onclick=\"convertToInteractive('df-3ca2b727-02d0-479a-8b5b-c63869e86726')\"\n",
              "              title=\"Convert this dataframe to an interactive table.\"\n",
              "              style=\"display:none;\">\n",
              "\n",
              "  <svg xmlns=\"http://www.w3.org/2000/svg\" height=\"24px\"viewBox=\"0 0 24 24\"\n",
              "       width=\"24px\">\n",
              "    <path d=\"M0 0h24v24H0V0z\" fill=\"none\"/>\n",
              "    <path d=\"M18.56 5.44l.94 2.06.94-2.06 2.06-.94-2.06-.94-.94-2.06-.94 2.06-2.06.94zm-11 1L8.5 8.5l.94-2.06 2.06-.94-2.06-.94L8.5 2.5l-.94 2.06-2.06.94zm10 10l.94 2.06.94-2.06 2.06-.94-2.06-.94-.94-2.06-.94 2.06-2.06.94z\"/><path d=\"M17.41 7.96l-1.37-1.37c-.4-.4-.92-.59-1.43-.59-.52 0-1.04.2-1.43.59L10.3 9.45l-7.72 7.72c-.78.78-.78 2.05 0 2.83L4 21.41c.39.39.9.59 1.41.59.51 0 1.02-.2 1.41-.59l7.78-7.78 2.81-2.81c.8-.78.8-2.07 0-2.86zM5.41 20L4 18.59l7.72-7.72 1.47 1.35L5.41 20z\"/>\n",
              "  </svg>\n",
              "      </button>\n",
              "\n",
              "\n",
              "\n",
              "    <div id=\"df-a7dbd94d-eaa2-4df3-9a3b-63e0c531add1\">\n",
              "      <button class=\"colab-df-quickchart\" onclick=\"quickchart('df-a7dbd94d-eaa2-4df3-9a3b-63e0c531add1')\"\n",
              "              title=\"Suggest charts.\"\n",
              "              style=\"display:none;\">\n",
              "\n",
              "<svg xmlns=\"http://www.w3.org/2000/svg\" height=\"24px\"viewBox=\"0 0 24 24\"\n",
              "     width=\"24px\">\n",
              "    <g>\n",
              "        <path d=\"M19 3H5c-1.1 0-2 .9-2 2v14c0 1.1.9 2 2 2h14c1.1 0 2-.9 2-2V5c0-1.1-.9-2-2-2zM9 17H7v-7h2v7zm4 0h-2V7h2v10zm4 0h-2v-4h2v4z\"/>\n",
              "    </g>\n",
              "</svg>\n",
              "      </button>\n",
              "    </div>\n",
              "\n",
              "<style>\n",
              "  .colab-df-quickchart {\n",
              "    background-color: #E8F0FE;\n",
              "    border: none;\n",
              "    border-radius: 50%;\n",
              "    cursor: pointer;\n",
              "    display: none;\n",
              "    fill: #1967D2;\n",
              "    height: 32px;\n",
              "    padding: 0 0 0 0;\n",
              "    width: 32px;\n",
              "  }\n",
              "\n",
              "  .colab-df-quickchart:hover {\n",
              "    background-color: #E2EBFA;\n",
              "    box-shadow: 0px 1px 2px rgba(60, 64, 67, 0.3), 0px 1px 3px 1px rgba(60, 64, 67, 0.15);\n",
              "    fill: #174EA6;\n",
              "  }\n",
              "\n",
              "  [theme=dark] .colab-df-quickchart {\n",
              "    background-color: #3B4455;\n",
              "    fill: #D2E3FC;\n",
              "  }\n",
              "\n",
              "  [theme=dark] .colab-df-quickchart:hover {\n",
              "    background-color: #434B5C;\n",
              "    box-shadow: 0px 1px 3px 1px rgba(0, 0, 0, 0.15);\n",
              "    filter: drop-shadow(0px 1px 2px rgba(0, 0, 0, 0.3));\n",
              "    fill: #FFFFFF;\n",
              "  }\n",
              "</style>\n",
              "\n",
              "    <script>\n",
              "      async function quickchart(key) {\n",
              "        const containerElement = document.querySelector('#' + key);\n",
              "        const charts = await google.colab.kernel.invokeFunction(\n",
              "            'suggestCharts', [key], {});\n",
              "      }\n",
              "    </script>\n",
              "\n",
              "\n",
              "      <script>\n",
              "\n",
              "function displayQuickchartButton(domScope) {\n",
              "  let quickchartButtonEl =\n",
              "    domScope.querySelector('#df-a7dbd94d-eaa2-4df3-9a3b-63e0c531add1 button.colab-df-quickchart');\n",
              "  quickchartButtonEl.style.display =\n",
              "    google.colab.kernel.accessAllowed ? 'block' : 'none';\n",
              "}\n",
              "\n",
              "        displayQuickchartButton(document);\n",
              "      </script>\n",
              "      <style>\n",
              "    .colab-df-container {\n",
              "      display:flex;\n",
              "      flex-wrap:wrap;\n",
              "      gap: 12px;\n",
              "    }\n",
              "\n",
              "    .colab-df-convert {\n",
              "      background-color: #E8F0FE;\n",
              "      border: none;\n",
              "      border-radius: 50%;\n",
              "      cursor: pointer;\n",
              "      display: none;\n",
              "      fill: #1967D2;\n",
              "      height: 32px;\n",
              "      padding: 0 0 0 0;\n",
              "      width: 32px;\n",
              "    }\n",
              "\n",
              "    .colab-df-convert:hover {\n",
              "      background-color: #E2EBFA;\n",
              "      box-shadow: 0px 1px 2px rgba(60, 64, 67, 0.3), 0px 1px 3px 1px rgba(60, 64, 67, 0.15);\n",
              "      fill: #174EA6;\n",
              "    }\n",
              "\n",
              "    [theme=dark] .colab-df-convert {\n",
              "      background-color: #3B4455;\n",
              "      fill: #D2E3FC;\n",
              "    }\n",
              "\n",
              "    [theme=dark] .colab-df-convert:hover {\n",
              "      background-color: #434B5C;\n",
              "      box-shadow: 0px 1px 3px 1px rgba(0, 0, 0, 0.15);\n",
              "      filter: drop-shadow(0px 1px 2px rgba(0, 0, 0, 0.3));\n",
              "      fill: #FFFFFF;\n",
              "    }\n",
              "  </style>\n",
              "\n",
              "      <script>\n",
              "        const buttonEl =\n",
              "          document.querySelector('#df-3ca2b727-02d0-479a-8b5b-c63869e86726 button.colab-df-convert');\n",
              "        buttonEl.style.display =\n",
              "          google.colab.kernel.accessAllowed ? 'block' : 'none';\n",
              "\n",
              "        async function convertToInteractive(key) {\n",
              "          const element = document.querySelector('#df-3ca2b727-02d0-479a-8b5b-c63869e86726');\n",
              "          const dataTable =\n",
              "            await google.colab.kernel.invokeFunction('convertToInteractive',\n",
              "                                                     [key], {});\n",
              "          if (!dataTable) return;\n",
              "\n",
              "          const docLinkHtml = 'Like what you see? Visit the ' +\n",
              "            '<a target=\"_blank\" href=https://colab.research.google.com/notebooks/data_table.ipynb>data table notebook</a>'\n",
              "            + ' to learn more about interactive tables.';\n",
              "          element.innerHTML = '';\n",
              "          dataTable['output_type'] = 'display_data';\n",
              "          await google.colab.output.renderOutput(dataTable, element);\n",
              "          const docLink = document.createElement('div');\n",
              "          docLink.innerHTML = docLinkHtml;\n",
              "          element.appendChild(docLink);\n",
              "        }\n",
              "      </script>\n",
              "    </div>\n",
              "  </div>\n"
            ]
          },
          "metadata": {},
          "execution_count": 5
        }
      ]
    },
    {
      "cell_type": "code",
      "source": [
        "df.describe()"
      ],
      "metadata": {
        "colab": {
          "base_uri": "https://localhost:8080/",
          "height": 344
        },
        "id": "WEtxBIwVWaq3",
        "outputId": "90755936-6aab-46bc-c753-3e0b0bb5c077"
      },
      "execution_count": null,
      "outputs": [
        {
          "output_type": "execute_result",
          "data": {
            "text/plain": [
              "        match_id  first_ings_score  first_ings_wkts  second_ings_score  \\\n",
              "count  74.000000         74.000000        74.000000          74.000000   \n",
              "mean   37.500000        171.121622         6.135135         158.540541   \n",
              "std    21.505813         29.048355         2.222699          29.299207   \n",
              "min     1.000000         68.000000         0.000000          72.000000   \n",
              "25%    19.250000        154.250000         5.000000         142.750000   \n",
              "50%    37.500000        169.500000         6.000000         160.000000   \n",
              "75%    55.750000        192.750000         8.000000         176.000000   \n",
              "max    74.000000        222.000000        10.000000         211.000000   \n",
              "\n",
              "       second_ings_wkts     margin   highscore  \n",
              "count         74.000000  74.000000   74.000000  \n",
              "mean           6.175676  16.972973   71.716216  \n",
              "std            2.639832  19.651047   20.705052  \n",
              "min            1.000000   2.000000   28.000000  \n",
              "25%            4.000000   5.250000   57.000000  \n",
              "50%            6.000000   8.000000   68.000000  \n",
              "75%            8.000000  18.000000   87.750000  \n",
              "max           10.000000  91.000000  140.000000  "
            ],
            "text/html": [
              "\n",
              "\n",
              "  <div id=\"df-22be084a-7c0d-4f34-9770-356ed693cb9d\">\n",
              "    <div class=\"colab-df-container\">\n",
              "      <div>\n",
              "<style scoped>\n",
              "    .dataframe tbody tr th:only-of-type {\n",
              "        vertical-align: middle;\n",
              "    }\n",
              "\n",
              "    .dataframe tbody tr th {\n",
              "        vertical-align: top;\n",
              "    }\n",
              "\n",
              "    .dataframe thead th {\n",
              "        text-align: right;\n",
              "    }\n",
              "</style>\n",
              "<table border=\"1\" class=\"dataframe\">\n",
              "  <thead>\n",
              "    <tr style=\"text-align: right;\">\n",
              "      <th></th>\n",
              "      <th>match_id</th>\n",
              "      <th>first_ings_score</th>\n",
              "      <th>first_ings_wkts</th>\n",
              "      <th>second_ings_score</th>\n",
              "      <th>second_ings_wkts</th>\n",
              "      <th>margin</th>\n",
              "      <th>highscore</th>\n",
              "    </tr>\n",
              "  </thead>\n",
              "  <tbody>\n",
              "    <tr>\n",
              "      <th>count</th>\n",
              "      <td>74.000000</td>\n",
              "      <td>74.000000</td>\n",
              "      <td>74.000000</td>\n",
              "      <td>74.000000</td>\n",
              "      <td>74.000000</td>\n",
              "      <td>74.000000</td>\n",
              "      <td>74.000000</td>\n",
              "    </tr>\n",
              "    <tr>\n",
              "      <th>mean</th>\n",
              "      <td>37.500000</td>\n",
              "      <td>171.121622</td>\n",
              "      <td>6.135135</td>\n",
              "      <td>158.540541</td>\n",
              "      <td>6.175676</td>\n",
              "      <td>16.972973</td>\n",
              "      <td>71.716216</td>\n",
              "    </tr>\n",
              "    <tr>\n",
              "      <th>std</th>\n",
              "      <td>21.505813</td>\n",
              "      <td>29.048355</td>\n",
              "      <td>2.222699</td>\n",
              "      <td>29.299207</td>\n",
              "      <td>2.639832</td>\n",
              "      <td>19.651047</td>\n",
              "      <td>20.705052</td>\n",
              "    </tr>\n",
              "    <tr>\n",
              "      <th>min</th>\n",
              "      <td>1.000000</td>\n",
              "      <td>68.000000</td>\n",
              "      <td>0.000000</td>\n",
              "      <td>72.000000</td>\n",
              "      <td>1.000000</td>\n",
              "      <td>2.000000</td>\n",
              "      <td>28.000000</td>\n",
              "    </tr>\n",
              "    <tr>\n",
              "      <th>25%</th>\n",
              "      <td>19.250000</td>\n",
              "      <td>154.250000</td>\n",
              "      <td>5.000000</td>\n",
              "      <td>142.750000</td>\n",
              "      <td>4.000000</td>\n",
              "      <td>5.250000</td>\n",
              "      <td>57.000000</td>\n",
              "    </tr>\n",
              "    <tr>\n",
              "      <th>50%</th>\n",
              "      <td>37.500000</td>\n",
              "      <td>169.500000</td>\n",
              "      <td>6.000000</td>\n",
              "      <td>160.000000</td>\n",
              "      <td>6.000000</td>\n",
              "      <td>8.000000</td>\n",
              "      <td>68.000000</td>\n",
              "    </tr>\n",
              "    <tr>\n",
              "      <th>75%</th>\n",
              "      <td>55.750000</td>\n",
              "      <td>192.750000</td>\n",
              "      <td>8.000000</td>\n",
              "      <td>176.000000</td>\n",
              "      <td>8.000000</td>\n",
              "      <td>18.000000</td>\n",
              "      <td>87.750000</td>\n",
              "    </tr>\n",
              "    <tr>\n",
              "      <th>max</th>\n",
              "      <td>74.000000</td>\n",
              "      <td>222.000000</td>\n",
              "      <td>10.000000</td>\n",
              "      <td>211.000000</td>\n",
              "      <td>10.000000</td>\n",
              "      <td>91.000000</td>\n",
              "      <td>140.000000</td>\n",
              "    </tr>\n",
              "  </tbody>\n",
              "</table>\n",
              "</div>\n",
              "      <button class=\"colab-df-convert\" onclick=\"convertToInteractive('df-22be084a-7c0d-4f34-9770-356ed693cb9d')\"\n",
              "              title=\"Convert this dataframe to an interactive table.\"\n",
              "              style=\"display:none;\">\n",
              "\n",
              "  <svg xmlns=\"http://www.w3.org/2000/svg\" height=\"24px\"viewBox=\"0 0 24 24\"\n",
              "       width=\"24px\">\n",
              "    <path d=\"M0 0h24v24H0V0z\" fill=\"none\"/>\n",
              "    <path d=\"M18.56 5.44l.94 2.06.94-2.06 2.06-.94-2.06-.94-.94-2.06-.94 2.06-2.06.94zm-11 1L8.5 8.5l.94-2.06 2.06-.94-2.06-.94L8.5 2.5l-.94 2.06-2.06.94zm10 10l.94 2.06.94-2.06 2.06-.94-2.06-.94-.94-2.06-.94 2.06-2.06.94z\"/><path d=\"M17.41 7.96l-1.37-1.37c-.4-.4-.92-.59-1.43-.59-.52 0-1.04.2-1.43.59L10.3 9.45l-7.72 7.72c-.78.78-.78 2.05 0 2.83L4 21.41c.39.39.9.59 1.41.59.51 0 1.02-.2 1.41-.59l7.78-7.78 2.81-2.81c.8-.78.8-2.07 0-2.86zM5.41 20L4 18.59l7.72-7.72 1.47 1.35L5.41 20z\"/>\n",
              "  </svg>\n",
              "      </button>\n",
              "\n",
              "\n",
              "\n",
              "    <div id=\"df-f6878f46-327a-477d-a190-1810433be00b\">\n",
              "      <button class=\"colab-df-quickchart\" onclick=\"quickchart('df-f6878f46-327a-477d-a190-1810433be00b')\"\n",
              "              title=\"Suggest charts.\"\n",
              "              style=\"display:none;\">\n",
              "\n",
              "<svg xmlns=\"http://www.w3.org/2000/svg\" height=\"24px\"viewBox=\"0 0 24 24\"\n",
              "     width=\"24px\">\n",
              "    <g>\n",
              "        <path d=\"M19 3H5c-1.1 0-2 .9-2 2v14c0 1.1.9 2 2 2h14c1.1 0 2-.9 2-2V5c0-1.1-.9-2-2-2zM9 17H7v-7h2v7zm4 0h-2V7h2v10zm4 0h-2v-4h2v4z\"/>\n",
              "    </g>\n",
              "</svg>\n",
              "      </button>\n",
              "    </div>\n",
              "\n",
              "<style>\n",
              "  .colab-df-quickchart {\n",
              "    background-color: #E8F0FE;\n",
              "    border: none;\n",
              "    border-radius: 50%;\n",
              "    cursor: pointer;\n",
              "    display: none;\n",
              "    fill: #1967D2;\n",
              "    height: 32px;\n",
              "    padding: 0 0 0 0;\n",
              "    width: 32px;\n",
              "  }\n",
              "\n",
              "  .colab-df-quickchart:hover {\n",
              "    background-color: #E2EBFA;\n",
              "    box-shadow: 0px 1px 2px rgba(60, 64, 67, 0.3), 0px 1px 3px 1px rgba(60, 64, 67, 0.15);\n",
              "    fill: #174EA6;\n",
              "  }\n",
              "\n",
              "  [theme=dark] .colab-df-quickchart {\n",
              "    background-color: #3B4455;\n",
              "    fill: #D2E3FC;\n",
              "  }\n",
              "\n",
              "  [theme=dark] .colab-df-quickchart:hover {\n",
              "    background-color: #434B5C;\n",
              "    box-shadow: 0px 1px 3px 1px rgba(0, 0, 0, 0.15);\n",
              "    filter: drop-shadow(0px 1px 2px rgba(0, 0, 0, 0.3));\n",
              "    fill: #FFFFFF;\n",
              "  }\n",
              "</style>\n",
              "\n",
              "    <script>\n",
              "      async function quickchart(key) {\n",
              "        const containerElement = document.querySelector('#' + key);\n",
              "        const charts = await google.colab.kernel.invokeFunction(\n",
              "            'suggestCharts', [key], {});\n",
              "      }\n",
              "    </script>\n",
              "\n",
              "\n",
              "      <script>\n",
              "\n",
              "function displayQuickchartButton(domScope) {\n",
              "  let quickchartButtonEl =\n",
              "    domScope.querySelector('#df-f6878f46-327a-477d-a190-1810433be00b button.colab-df-quickchart');\n",
              "  quickchartButtonEl.style.display =\n",
              "    google.colab.kernel.accessAllowed ? 'block' : 'none';\n",
              "}\n",
              "\n",
              "        displayQuickchartButton(document);\n",
              "      </script>\n",
              "      <style>\n",
              "    .colab-df-container {\n",
              "      display:flex;\n",
              "      flex-wrap:wrap;\n",
              "      gap: 12px;\n",
              "    }\n",
              "\n",
              "    .colab-df-convert {\n",
              "      background-color: #E8F0FE;\n",
              "      border: none;\n",
              "      border-radius: 50%;\n",
              "      cursor: pointer;\n",
              "      display: none;\n",
              "      fill: #1967D2;\n",
              "      height: 32px;\n",
              "      padding: 0 0 0 0;\n",
              "      width: 32px;\n",
              "    }\n",
              "\n",
              "    .colab-df-convert:hover {\n",
              "      background-color: #E2EBFA;\n",
              "      box-shadow: 0px 1px 2px rgba(60, 64, 67, 0.3), 0px 1px 3px 1px rgba(60, 64, 67, 0.15);\n",
              "      fill: #174EA6;\n",
              "    }\n",
              "\n",
              "    [theme=dark] .colab-df-convert {\n",
              "      background-color: #3B4455;\n",
              "      fill: #D2E3FC;\n",
              "    }\n",
              "\n",
              "    [theme=dark] .colab-df-convert:hover {\n",
              "      background-color: #434B5C;\n",
              "      box-shadow: 0px 1px 3px 1px rgba(0, 0, 0, 0.15);\n",
              "      filter: drop-shadow(0px 1px 2px rgba(0, 0, 0, 0.3));\n",
              "      fill: #FFFFFF;\n",
              "    }\n",
              "  </style>\n",
              "\n",
              "      <script>\n",
              "        const buttonEl =\n",
              "          document.querySelector('#df-22be084a-7c0d-4f34-9770-356ed693cb9d button.colab-df-convert');\n",
              "        buttonEl.style.display =\n",
              "          google.colab.kernel.accessAllowed ? 'block' : 'none';\n",
              "\n",
              "        async function convertToInteractive(key) {\n",
              "          const element = document.querySelector('#df-22be084a-7c0d-4f34-9770-356ed693cb9d');\n",
              "          const dataTable =\n",
              "            await google.colab.kernel.invokeFunction('convertToInteractive',\n",
              "                                                     [key], {});\n",
              "          if (!dataTable) return;\n",
              "\n",
              "          const docLinkHtml = 'Like what you see? Visit the ' +\n",
              "            '<a target=\"_blank\" href=https://colab.research.google.com/notebooks/data_table.ipynb>data table notebook</a>'\n",
              "            + ' to learn more about interactive tables.';\n",
              "          element.innerHTML = '';\n",
              "          dataTable['output_type'] = 'display_data';\n",
              "          await google.colab.output.renderOutput(dataTable, element);\n",
              "          const docLink = document.createElement('div');\n",
              "          docLink.innerHTML = docLinkHtml;\n",
              "          element.appendChild(docLink);\n",
              "        }\n",
              "      </script>\n",
              "    </div>\n",
              "  </div>\n"
            ]
          },
          "metadata": {},
          "execution_count": 5
        }
      ]
    },
    {
      "cell_type": "code",
      "source": [
        "df.isnull().sum()"
      ],
      "metadata": {
        "colab": {
          "base_uri": "https://localhost:8080/"
        },
        "id": "E0VkrP06WawJ",
        "outputId": "f8795ce7-eef1-4774-c81a-a309e99f14ed"
      },
      "execution_count": null,
      "outputs": [
        {
          "output_type": "execute_result",
          "data": {
            "text/plain": [
              "match_id               0\n",
              "date                   0\n",
              "venue                  0\n",
              "team1                  0\n",
              "team2                  0\n",
              "stage                  0\n",
              "toss_winner            0\n",
              "toss_decision          0\n",
              "first_ings_score       0\n",
              "first_ings_wkts        0\n",
              "second_ings_score      0\n",
              "second_ings_wkts       0\n",
              "match_winner           0\n",
              "won_by                 0\n",
              "margin                 0\n",
              "player_of_the_match    0\n",
              "top_scorer             0\n",
              "highscore              0\n",
              "best_bowling           0\n",
              "best_bowling_figure    0\n",
              "dtype: int64"
            ]
          },
          "metadata": {},
          "execution_count": 8
        }
      ]
    },
    {
      "cell_type": "code",
      "source": [
        "df[\"venue\"].unique()"
      ],
      "metadata": {
        "colab": {
          "base_uri": "https://localhost:8080/"
        },
        "id": "HGSyeroz7mmE",
        "outputId": "05641905-fa44-4121-ebbd-0c4a8aa5d92f"
      },
      "execution_count": null,
      "outputs": [
        {
          "output_type": "execute_result",
          "data": {
            "text/plain": [
              "array(['Wankhede Stadium, Mumbai', 'Brabourne Stadium, Mumbai',\n",
              "       'Dr DY Patil Sports Academy, Mumbai',\n",
              "       'Maharashtra Cricket Association Stadium,Pune',\n",
              "       'Eden Gardens, Kolkata', 'Narendra Modi Stadium, Ahmedabad'],\n",
              "      dtype=object)"
            ]
          },
          "metadata": {},
          "execution_count": 6
        }
      ]
    },
    {
      "cell_type": "code",
      "source": [
        "df[\"team1\"].unique()"
      ],
      "metadata": {
        "colab": {
          "base_uri": "https://localhost:8080/"
        },
        "id": "wUmerKCYW4NB",
        "outputId": "2ddf02f9-46b5-4e67-c2da-87390a280922"
      },
      "execution_count": null,
      "outputs": [
        {
          "output_type": "execute_result",
          "data": {
            "text/plain": [
              "array(['Chennai', 'Delhi', 'Banglore', 'Gujarat', 'Hyderabad', 'Kolkata',\n",
              "       'Mumbai', 'Lucknow', 'Punjab'], dtype=object)"
            ]
          },
          "metadata": {},
          "execution_count": 7
        }
      ]
    },
    {
      "cell_type": "code",
      "source": [
        "df[\"team2\"].unique()"
      ],
      "metadata": {
        "colab": {
          "base_uri": "https://localhost:8080/"
        },
        "id": "C8OiX9iJXIlP",
        "outputId": "71d28822-8106-49f0-d38a-1a3f81d092d8"
      },
      "execution_count": null,
      "outputs": [
        {
          "output_type": "execute_result",
          "data": {
            "text/plain": [
              "array(['Kolkata', 'Mumbai', 'Punjab', 'Lucknow', 'Rajasthan', 'Gujarat',\n",
              "       'Hyderabad', 'Chennai', 'Delhi'], dtype=object)"
            ]
          },
          "metadata": {},
          "execution_count": 8
        }
      ]
    },
    {
      "cell_type": "code",
      "source": [
        "df.player_of_the_match"
      ],
      "metadata": {
        "colab": {
          "base_uri": "https://localhost:8080/"
        },
        "id": "YS8j-PiFXLN8",
        "outputId": "2355010b-3cdb-4965-f885-d26ec1a16855"
      },
      "execution_count": null,
      "outputs": [
        {
          "output_type": "execute_result",
          "data": {
            "text/plain": [
              "0        Umesh Yadav\n",
              "1      Kuldeep Yadav\n",
              "2        Odean Smith\n",
              "3     Mohammed Shami\n",
              "4       Sanju Samson\n",
              "           ...      \n",
              "69     Harpreet Brar\n",
              "70      David Miller\n",
              "71     Rajat Patidar\n",
              "72       Jos Buttler\n",
              "73     Hardik Pandya\n",
              "Name: player_of_the_match, Length: 74, dtype: object"
            ]
          },
          "metadata": {},
          "execution_count": 16
        }
      ]
    },
    {
      "cell_type": "code",
      "source": [
        "sns.set_style(\"whitegrid\")\n",
        "plt.figure(figsize=(10,6))\n",
        "sns.countplot(y=\"match_winner\", data=df, order=df[\"match_winner\"].value_counts().index)\n",
        "plt.xlabel(\"Number of Matches\")\n",
        "plt.ylabel(\"Winner\")\n",
        "plt.savefig(\"Number of IPL matches won.png\", dpi=400)\n",
        "plt.show()\n",
        "\n",
        "sns.countplot(x=\"toss_decision\", data=df)"
      ],
      "metadata": {
        "colab": {
          "base_uri": "https://localhost:8080/",
          "height": 443
        },
        "id": "HrkdC9_UXeDI",
        "outputId": "944b2528-be32-4ee7-d44f-c3f5017684f2"
      },
      "execution_count": null,
      "outputs": [
        {
          "output_type": "display_data",
          "data": {
            "text/plain": [
              "<Figure size 1000x600 with 1 Axes>"
            ],
            "image/png": "[encoded data removed]"
          },
          "metadata": {}
        }
      ]
    },
    {
      "cell_type": "code",
      "source": [
        "df.head(5)"
      ],
      "metadata": {
        "colab": {
          "base_uri": "https://localhost:8080/",
          "height": 478
        },
        "id": "CF2CxWSbanUw",
        "outputId": "29586d08-4133-4661-f45a-3b928d71d0b5"
      },
      "execution_count": null,
      "outputs": [
        {
          "output_type": "execute_result",
          "data": {
            "text/plain": [
              "   match_id           date                                         venue  \\\n",
              "0         1  March 26,2022                      Wankhede Stadium, Mumbai   \n",
              "1         2  March 27,2022                     Brabourne Stadium, Mumbai   \n",
              "2         3  March 27,2022            Dr DY Patil Sports Academy, Mumbai   \n",
              "3         4  March 28,2022                      Wankhede Stadium, Mumbai   \n",
              "4         5  March 29,2022  Maharashtra Cricket Association Stadium,Pune   \n",
              "\n",
              "       team1      team2  stage toss_winner toss_decision  first_ings_score  \\\n",
              "0    Chennai    Kolkata  Group     Kolkata         Field               131   \n",
              "1      Delhi     Mumbai  Group       Delhi         Field               177   \n",
              "2   Banglore     Punjab  Group      Punjab         Field               205   \n",
              "3    Gujarat    Lucknow  Group     Gujarat         Field               158   \n",
              "4  Hyderabad  Rajasthan  Group   Hyderabad         Field               210   \n",
              "\n",
              "   first_ings_wkts  second_ings_score  second_ings_wkts match_winner   won_by  \\\n",
              "0                5                133                 4      Kolkata  Wickets   \n",
              "1                5                179                 6        Delhi  Wickets   \n",
              "2                2                208                 5       Punjab  Wickets   \n",
              "3                6                161                 5      Gujarat  Wickets   \n",
              "4                6                149                 7    Rajasthan     Runs   \n",
              "\n",
              "   margin player_of_the_match      top_scorer  highscore      best_bowling  \\\n",
              "0       6         Umesh Yadav        MS Dhoni         50      Dwayne Bravo   \n",
              "1       4       Kuldeep Yadav    Ishan Kishan         81     Kuldeep Yadav   \n",
              "2       5         Odean Smith  Faf du Plessis         88    Mohammed Siraj   \n",
              "3       5      Mohammed Shami    Deepak Hooda         55    Mohammed Shami   \n",
              "4      61        Sanju Samson   Aiden Markram         57  Yuzvendra Chahal   \n",
              "\n",
              "  best_bowling_figure  \n",
              "0               3--20  \n",
              "1               3--18  \n",
              "2               2--59  \n",
              "3               3--25  \n",
              "4               3--22  "
            ],
            "text/html": [
              "\n",
              "\n",
              "  <div id=\"df-39d69563-0b7d-42d2-ab3f-3a24f8f65f81\">\n",
              "    <div class=\"colab-df-container\">\n",
              "      <div>\n",
              "<style scoped>\n",
              "    .dataframe tbody tr th:only-of-type {\n",
              "        vertical-align: middle;\n",
              "    }\n",
              "\n",
              "    .dataframe tbody tr th {\n",
              "        vertical-align: top;\n",
              "    }\n",
              "\n",
              "    .dataframe thead th {\n",
              "        text-align: right;\n",
              "    }\n",
              "</style>\n",
              "<table border=\"1\" class=\"dataframe\">\n",
              "  <thead>\n",
              "    <tr style=\"text-align: right;\">\n",
              "      <th></th>\n",
              "      <th>match_id</th>\n",
              "      <th>date</th>\n",
              "      <th>venue</th>\n",
              "      <th>team1</th>\n",
              "      <th>team2</th>\n",
              "      <th>stage</th>\n",
              "      <th>toss_winner</th>\n",
              "      <th>toss_decision</th>\n",
              "      <th>first_ings_score</th>\n",
              "      <th>first_ings_wkts</th>\n",
              "      <th>second_ings_score</th>\n",
              "      <th>second_ings_wkts</th>\n",
              "      <th>match_winner</th>\n",
              "      <th>won_by</th>\n",
              "      <th>margin</th>\n",
              "      <th>player_of_the_match</th>\n",
              "      <th>top_scorer</th>\n",
              "      <th>highscore</th>\n",
              "      <th>best_bowling</th>\n",
              "      <th>best_bowling_figure</th>\n",
              "    </tr>\n",
              "  </thead>\n",
              "  <tbody>\n",
              "    <tr>\n",
              "      <th>0</th>\n",
              "      <td>1</td>\n",
              "      <td>March 26,2022</td>\n",
              "      <td>Wankhede Stadium, Mumbai</td>\n",
              "      <td>Chennai</td>\n",
              "      <td>Kolkata</td>\n",
              "      <td>Group</td>\n",
              "      <td>Kolkata</td>\n",
              "      <td>Field</td>\n",
              "      <td>131</td>\n",
              "      <td>5</td>\n",
              "      <td>133</td>\n",
              "      <td>4</td>\n",
              "      <td>Kolkata</td>\n",
              "      <td>Wickets</td>\n",
              "      <td>6</td>\n",
              "      <td>Umesh Yadav</td>\n",
              "      <td>MS Dhoni</td>\n",
              "      <td>50</td>\n",
              "      <td>Dwayne Bravo</td>\n",
              "      <td>3--20</td>\n",
              "    </tr>\n",
              "    <tr>\n",
              "      <th>1</th>\n",
              "      <td>2</td>\n",
              "      <td>March 27,2022</td>\n",
              "      <td>Brabourne Stadium, Mumbai</td>\n",
              "      <td>Delhi</td>\n",
              "      <td>Mumbai</td>\n",
              "      <td>Group</td>\n",
              "      <td>Delhi</td>\n",
              "      <td>Field</td>\n",
              "      <td>177</td>\n",
              "      <td>5</td>\n",
              "      <td>179</td>\n",
              "      <td>6</td>\n",
              "      <td>Delhi</td>\n",
              "      <td>Wickets</td>\n",
              "      <td>4</td>\n",
              "      <td>Kuldeep Yadav</td>\n",
              "      <td>Ishan Kishan</td>\n",
              "      <td>81</td>\n",
              "      <td>Kuldeep Yadav</td>\n",
              "      <td>3--18</td>\n",
              "    </tr>\n",
              "    <tr>\n",
              "      <th>2</th>\n",
              "      <td>3</td>\n",
              "      <td>March 27,2022</td>\n",
              "      <td>Dr DY Patil Sports Academy, Mumbai</td>\n",
              "      <td>Banglore</td>\n",
              "      <td>Punjab</td>\n",
              "      <td>Group</td>\n",
              "      <td>Punjab</td>\n",
              "      <td>Field</td>\n",
              "      <td>205</td>\n",
              "      <td>2</td>\n",
              "      <td>208</td>\n",
              "      <td>5</td>\n",
              "      <td>Punjab</td>\n",
              "      <td>Wickets</td>\n",
              "      <td>5</td>\n",
              "      <td>Odean Smith</td>\n",
              "      <td>Faf du Plessis</td>\n",
              "      <td>88</td>\n",
              "      <td>Mohammed Siraj</td>\n",
              "      <td>2--59</td>\n",
              "    </tr>\n",
              "    <tr>\n",
              "      <th>3</th>\n",
              "      <td>4</td>\n",
              "      <td>March 28,2022</td>\n",
              "      <td>Wankhede Stadium, Mumbai</td>\n",
              "      <td>Gujarat</td>\n",
              "      <td>Lucknow</td>\n",
              "      <td>Group</td>\n",
              "      <td>Gujarat</td>\n",
              "      <td>Field</td>\n",
              "      <td>158</td>\n",
              "      <td>6</td>\n",
              "      <td>161</td>\n",
              "      <td>5</td>\n",
              "      <td>Gujarat</td>\n",
              "      <td>Wickets</td>\n",
              "      <td>5</td>\n",
              "      <td>Mohammed Shami</td>\n",
              "      <td>Deepak Hooda</td>\n",
              "      <td>55</td>\n",
              "      <td>Mohammed Shami</td>\n",
              "      <td>3--25</td>\n",
              "    </tr>\n",
              "    <tr>\n",
              "      <th>4</th>\n",
              "      <td>5</td>\n",
              "      <td>March 29,2022</td>\n",
              "      <td>Maharashtra Cricket Association Stadium,Pune</td>\n",
              "      <td>Hyderabad</td>\n",
              "      <td>Rajasthan</td>\n",
              "      <td>Group</td>\n",
              "      <td>Hyderabad</td>\n",
              "      <td>Field</td>\n",
              "      <td>210</td>\n",
              "      <td>6</td>\n",
              "      <td>149</td>\n",
              "      <td>7</td>\n",
              "      <td>Rajasthan</td>\n",
              "      <td>Runs</td>\n",
              "      <td>61</td>\n",
              "      <td>Sanju Samson</td>\n",
              "      <td>Aiden Markram</td>\n",
              "      <td>57</td>\n",
              "      <td>Yuzvendra Chahal</td>\n",
              "      <td>3--22</td>\n",
              "    </tr>\n",
              "  </tbody>\n",
              "</table>\n",
              "</div>\n",
              "      <button class=\"colab-df-convert\" onclick=\"convertToInteractive('df-39d69563-0b7d-42d2-ab3f-3a24f8f65f81')\"\n",
              "              title=\"Convert this dataframe to an interactive table.\"\n",
              "              style=\"display:none;\">\n",
              "\n",
              "  <svg xmlns=\"http://www.w3.org/2000/svg\" height=\"24px\"viewBox=\"0 0 24 24\"\n",
              "       width=\"24px\">\n",
              "    <path d=\"M0 0h24v24H0V0z\" fill=\"none\"/>\n",
              "    <path d=\"M18.56 5.44l.94 2.06.94-2.06 2.06-.94-2.06-.94-.94-2.06-.94 2.06-2.06.94zm-11 1L8.5 8.5l.94-2.06 2.06-.94-2.06-.94L8.5 2.5l-.94 2.06-2.06.94zm10 10l.94 2.06.94-2.06 2.06-.94-2.06-.94-.94-2.06-.94 2.06-2.06.94z\"/><path d=\"M17.41 7.96l-1.37-1.37c-.4-.4-.92-.59-1.43-.59-.52 0-1.04.2-1.43.59L10.3 9.45l-7.72 7.72c-.78.78-.78 2.05 0 2.83L4 21.41c.39.39.9.59 1.41.59.51 0 1.02-.2 1.41-.59l7.78-7.78 2.81-2.81c.8-.78.8-2.07 0-2.86zM5.41 20L4 18.59l7.72-7.72 1.47 1.35L5.41 20z\"/>\n",
              "  </svg>\n",
              "      </button>\n",
              "\n",
              "\n",
              "\n",
              "    <div id=\"df-d3074ad9-dcf8-42dc-8f7f-769c9c5a7eab\">\n",
              "      <button class=\"colab-df-quickchart\" onclick=\"quickchart('df-d3074ad9-dcf8-42dc-8f7f-769c9c5a7eab')\"\n",
              "              title=\"Suggest charts.\"\n",
              "              style=\"display:none;\">\n",
              "\n",
              "<svg xmlns=\"http://www.w3.org/2000/svg\" height=\"24px\"viewBox=\"0 0 24 24\"\n",
              "     width=\"24px\">\n",
              "    <g>\n",
              "        <path d=\"M19 3H5c-1.1 0-2 .9-2 2v14c0 1.1.9 2 2 2h14c1.1 0 2-.9 2-2V5c0-1.1-.9-2-2-2zM9 17H7v-7h2v7zm4 0h-2V7h2v10zm4 0h-2v-4h2v4z\"/>\n",
              "    </g>\n",
              "</svg>\n",
              "      </button>\n",
              "    </div>\n",
              "\n",
              "<style>\n",
              "  .colab-df-quickchart {\n",
              "    background-color: #E8F0FE;\n",
              "    border: none;\n",
              "    border-radius: 50%;\n",
              "    cursor: pointer;\n",
              "    display: none;\n",
              "    fill: #1967D2;\n",
              "    height: 32px;\n",
              "    padding: 0 0 0 0;\n",
              "    width: 32px;\n",
              "  }\n",
              "\n",
              "  .colab-df-quickchart:hover {\n",
              "    background-color: #E2EBFA;\n",
              "    box-shadow: 0px 1px 2px rgba(60, 64, 67, 0.3), 0px 1px 3px 1px rgba(60, 64, 67, 0.15);\n",
              "    fill: #174EA6;\n",
              "  }\n",
              "\n",
              "  [theme=dark] .colab-df-quickchart {\n",
              "    background-color: #3B4455;\n",
              "    fill: #D2E3FC;\n",
              "  }\n",
              "\n",
              "  [theme=dark] .colab-df-quickchart:hover {\n",
              "    background-color: #434B5C;\n",
              "    box-shadow: 0px 1px 3px 1px rgba(0, 0, 0, 0.15);\n",
              "    filter: drop-shadow(0px 1px 2px rgba(0, 0, 0, 0.3));\n",
              "    fill: #FFFFFF;\n",
              "  }\n",
              "</style>\n",
              "\n",
              "    <script>\n",
              "      async function quickchart(key) {\n",
              "        const containerElement = document.querySelector('#' + key);\n",
              "        const charts = await google.colab.kernel.invokeFunction(\n",
              "            'suggestCharts', [key], {});\n",
              "      }\n",
              "    </script>\n",
              "\n",
              "\n",
              "      <script>\n",
              "\n",
              "function displayQuickchartButton(domScope) {\n",
              "  let quickchartButtonEl =\n",
              "    domScope.querySelector('#df-d3074ad9-dcf8-42dc-8f7f-769c9c5a7eab button.colab-df-quickchart');\n",
              "  quickchartButtonEl.style.display =\n",
              "    google.colab.kernel.accessAllowed ? 'block' : 'none';\n",
              "}\n",
              "\n",
              "        displayQuickchartButton(document);\n",
              "      </script>\n",
              "      <style>\n",
              "    .colab-df-container {\n",
              "      display:flex;\n",
              "      flex-wrap:wrap;\n",
              "      gap: 12px;\n",
              "    }\n",
              "\n",
              "    .colab-df-convert {\n",
              "      background-color: #E8F0FE;\n",
              "      border: none;\n",
              "      border-radius: 50%;\n",
              "      cursor: pointer;\n",
              "      display: none;\n",
              "      fill: #1967D2;\n",
              "      height: 32px;\n",
              "      padding: 0 0 0 0;\n",
              "      width: 32px;\n",
              "    }\n",
              "\n",
              "    .colab-df-convert:hover {\n",
              "      background-color: #E2EBFA;\n",
              "      box-shadow: 0px 1px 2px rgba(60, 64, 67, 0.3), 0px 1px 3px 1px rgba(60, 64, 67, 0.15);\n",
              "      fill: #174EA6;\n",
              "    }\n",
              "\n",
              "    [theme=dark] .colab-df-convert {\n",
              "      background-color: #3B4455;\n",
              "      fill: #D2E3FC;\n",
              "    }\n",
              "\n",
              "    [theme=dark] .colab-df-convert:hover {\n",
              "      background-color: #434B5C;\n",
              "      box-shadow: 0px 1px 3px 1px rgba(0, 0, 0, 0.15);\n",
              "      filter: drop-shadow(0px 1px 2px rgba(0, 0, 0, 0.3));\n",
              "      fill: #FFFFFF;\n",
              "    }\n",
              "  </style>\n",
              "\n",
              "      <script>\n",
              "        const buttonEl =\n",
              "          document.querySelector('#df-39d69563-0b7d-42d2-ab3f-3a24f8f65f81 button.colab-df-convert');\n",
              "        buttonEl.style.display =\n",
              "          google.colab.kernel.accessAllowed ? 'block' : 'none';\n",
              "\n",
              "        async function convertToInteractive(key) {\n",
              "          const element = document.querySelector('#df-39d69563-0b7d-42d2-ab3f-3a24f8f65f81');\n",
              "          const dataTable =\n",
              "            await google.colab.kernel.invokeFunction('convertToInteractive',\n",
              "                                                     [key], {});\n",
              "          if (!dataTable) return;\n",
              "\n",
              "          const docLinkHtml = 'Like what you see? Visit the ' +\n",
              "            '<a target=\"_blank\" href=https://colab.research.google.com/notebooks/data_table.ipynb>data table notebook</a>'\n",
              "            + ' to learn more about interactive tables.';\n",
              "          element.innerHTML = '';\n",
              "          dataTable['output_type'] = 'display_data';\n",
              "          await google.colab.output.renderOutput(dataTable, element);\n",
              "          const docLink = document.createElement('div');\n",
              "          docLink.innerHTML = docLinkHtml;\n",
              "          element.appendChild(docLink);\n",
              "        }\n",
              "      </script>\n",
              "    </div>\n",
              "  </div>\n"
            ]
          },
          "metadata": {},
          "execution_count": 23
        }
      ]
    },
    {
      "cell_type": "code",
      "source": [
        "plt.figure(figsize=(10,6))\n",
        "sns.countplot(x=\"toss_decision\", data=df)\n",
        "plt.xlabel(\"Toss Decision\")\n",
        "plt.ylabel(\"Count\")\n",
        "plt.savefig(\"Toss Decision\", dpi=400)\n",
        "plt.show()"
      ],
      "metadata": {
        "colab": {
          "base_uri": "https://localhost:8080/",
          "height": 542
        },
        "id": "S_LuIusQaz--",
        "outputId": "dcd82272-75ab-4af5-d3d8-62f6b3aeb23e"
      },
      "execution_count": null,
      "outputs": [
        {
          "output_type": "display_data",
          "data": {
            "text/plain": [
              "<Figure size 1000x600 with 1 Axes>"
            ],
            "image/png": "[encoded data removed]"
          },
          "metadata": {}
        }
      ]
    },
    {
      "cell_type": "code",
      "source": [
        "top_5_players=df['player_of_the_match'].value_counts().nlargest(5)\n",
        "top_5_players"
      ],
      "metadata": {
        "colab": {
          "base_uri": "https://localhost:8080/"
        },
        "id": "6k5RUv63pEUB",
        "outputId": "4fc90eb1-c6b4-4db8-a6cf-7b982057eee4"
      },
      "execution_count": null,
      "outputs": [
        {
          "output_type": "execute_result",
          "data": {
            "text/plain": [
              "Kuldeep Yadav      4\n",
              "Jos Buttler        3\n",
              "Umesh Yadav        2\n",
              "Quinton de Kock    2\n",
              "David Miller       2\n",
              "Name: player_of_the_match, dtype: int64"
            ]
          },
          "metadata": {},
          "execution_count": 117
        }
      ]
    },
    {
      "cell_type": "code",
      "source": [
        "plt.figure(figsize=(10,6))\n",
        "sns.countplot(y=\"player_of_the_match\", data=df, order=top_5_players.index)\n",
        "plt.xlabel(\"Player of the Match Count\")\n",
        "plt.ylabel(\"Player of the Match\")\n",
        "plt.savefig(\"Player of the Match\", dpi=400)\n",
        "plt.show()"
      ],
      "metadata": {
        "colab": {
          "base_uri": "https://localhost:8080/",
          "height": 498
        },
        "id": "un9NTAUYbv5-",
        "outputId": "67d2a8b1-833e-4262-abef-6feb75909464"
      },
      "execution_count": null,
      "outputs": [
        {
          "output_type": "display_data",
          "data": {
            "text/plain": [
              "<Figure size 1000x600 with 1 Axes>"
            ],
            "image/png": "[encoded data removed]"
          },
          "metadata": {}
        }
      ]
    },
    {
      "cell_type": "code",
      "source": [
        "top_5_top_scorer=df['top_scorer'].value_counts().nlargest(5)\n",
        "top_5_top_scorer"
      ],
      "metadata": {
        "colab": {
          "base_uri": "https://localhost:8080/"
        },
        "id": "QGVfBq2upj8I",
        "outputId": "4bd35f8b-f4c3-440b-cb03-612aa18d49f1"
      },
      "execution_count": null,
      "outputs": [
        {
          "output_type": "execute_result",
          "data": {
            "text/plain": [
              "Jos Buttler         7\n",
              "Quinton de Kock     5\n",
              "Liam Livingstone    4\n",
              "Shubman Gill        4\n",
              "KL Rahul            4\n",
              "Name: top_scorer, dtype: int64"
            ]
          },
          "metadata": {},
          "execution_count": 120
        }
      ]
    },
    {
      "cell_type": "code",
      "source": [
        "plt.figure(figsize=(10,6))\n",
        "sns.countplot(y=\"top_scorer\", data=df, order=top_5_top_scorer.index)\n",
        "plt.xlabel(\"Number of Top Scores Count\")\n",
        "plt.ylabel(\"Top Scorer of the Match \")\n",
        "plt.savefig(\"Top Scorer of the Match\", dpi=400)\n",
        "plt.show()"
      ],
      "metadata": {
        "colab": {
          "base_uri": "https://localhost:8080/",
          "height": 495
        },
        "id": "PpK9xx2GptCW",
        "outputId": "0a1dbffc-97a4-404c-bcec-5fbe82722338"
      },
      "execution_count": null,
      "outputs": [
        {
          "output_type": "display_data",
          "data": {
            "text/plain": [
              "<Figure size 1000x600 with 1 Axes>"
            ],
            "image/png": "[encoded data removed]"
          },
          "metadata": {}
        }
      ]
    },
    {
      "cell_type": "code",
      "source": [
        "plt.figure(figsize=(10,6))\n",
        "sns.countplot(y=\"toss_winner\", data=df, order=df[\"toss_winner\"].value_counts().index)\n",
        "plt.xlabel(\"Toss Winner\")\n",
        "plt.ylabel(\"Count\")\n",
        "plt.savefig(\"Toss Winner\", dpi=400)\n",
        "plt.show()"
      ],
      "metadata": {
        "colab": {
          "base_uri": "https://localhost:8080/",
          "height": 562
        },
        "id": "EF30VzOhc3_I",
        "outputId": "133767ca-cbe7-47c4-87a1-13ac2e29a6fb"
      },
      "execution_count": null,
      "outputs": [
        {
          "output_type": "display_data",
          "data": {
            "text/plain": [
              "<Figure size 1000x600 with 1 Axes>"
            ],
            "image/png": "[encoded data removed]"
          },
          "metadata": {}
        }
      ]
    },
    {
      "cell_type": "code",
      "source": [
        "plt.figure(figsize=(10,6))\n",
        "sns.countplot(x=\"won_by\", data=df)\n",
        "plt.xlabel(\"Won by\")\n",
        "plt.ylabel(\"Won\")\n",
        "plt.savefig(\"Way of Winning\", dpi=400)\n",
        "plt.show()"
      ],
      "metadata": {
        "colab": {
          "base_uri": "https://localhost:8080/",
          "height": 542
        },
        "id": "hx3_7bnldJwW",
        "outputId": "8232c094-8214-42ce-8f4a-ed91d9d055eb"
      },
      "execution_count": null,
      "outputs": [
        {
          "output_type": "display_data",
          "data": {
            "text/plain": [
              "<Figure size 1000x600 with 1 Axes>"
            ],
            "image/png": "[encoded data removed]"
          },
          "metadata": {}
        }
      ]
    },
    {
      "cell_type": "code",
      "source": [
        "venue=df['venue'].value_counts()\n",
        "venue"
      ],
      "metadata": {
        "colab": {
          "base_uri": "https://localhost:8080/"
        },
        "id": "yYODYUmWq4ND",
        "outputId": "25d8abd3-abc5-4bad-b22d-a2112cf43185"
      },
      "execution_count": null,
      "outputs": [
        {
          "output_type": "execute_result",
          "data": {
            "text/plain": [
              "Wankhede Stadium, Mumbai                        21\n",
              "Dr DY Patil Sports Academy, Mumbai              20\n",
              "Brabourne Stadium, Mumbai                       16\n",
              "Maharashtra Cricket Association Stadium,Pune    13\n",
              "Eden Gardens, Kolkata                            2\n",
              "Narendra Modi Stadium, Ahmedabad                 2\n",
              "Name: venue, dtype: int64"
            ]
          },
          "metadata": {},
          "execution_count": 133
        }
      ]
    },
    {
      "cell_type": "code",
      "source": [
        "plt.figure(figsize=(10,6))\n",
        "sns.countplot(y=\"venue\", data=df, order=venue.index)\n",
        "plt.xlabel(\"Venue\")\n",
        "plt.ylabel(\"Count\")\n",
        "plt.savefig(\"Venue\", dpi=400)\n",
        "plt.show()"
      ],
      "metadata": {
        "colab": {
          "base_uri": "https://localhost:8080/",
          "height": 409
        },
        "id": "2bTTB1bTr0O0",
        "outputId": "cfad310e-0727-48e9-a413-f46f19b0a57f"
      },
      "execution_count": null,
      "outputs": [
        {
          "output_type": "display_data",
          "data": {
            "text/plain": [
              "<Figure size 1000x600 with 1 Axes>"
            ],
            "image/png": "[encoded data removed]"
          },
          "metadata": {}
        }
      ]
    }
  ]
}